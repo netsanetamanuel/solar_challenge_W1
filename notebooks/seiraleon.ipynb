{
 "cells": [
  {
   "cell_type": "code",
   "execution_count": null,
   "id": "497acaa8",
   "metadata": {},
   "outputs": [],
   "source": [
    "import pandas as pd\n",
    "import numpy as np\n",
    "import seaborn as sns\n",
    "import matplotlib.pyplot as plt\n",
    "from scipy import stats"
   ]
  },
  {
   "cell_type": "code",
   "execution_count": null,
   "id": "ffee4353",
   "metadata": {},
   "outputs": [
    {
     "ename": "",
     "evalue": "",
     "output_type": "error",
     "traceback": [
      "\u001b[1;31mFailed to start the Kernel. \n",
      "\u001b[1;31mUnable to start Kernel 'Python 3.13.0' due to a timeout waiting for the ports to get used. \n",
      "\u001b[1;31mView Jupyter <a href='command:jupyter.viewOutput'>log</a> for further details."
     ]
    }
   ],
   "source": [
    "# load data set \n",
    "df = sns.load_dataset(\"iris\")\n",
    "df.head(20)"
   ]
  },
  {
   "cell_type": "code",
   "execution_count": null,
   "id": "e088fa17",
   "metadata": {},
   "outputs": [],
   "source": [
    "# Overview of numeric columns\n",
    "print(\"The description of the numeric columns:\")\n",
    "print(df.describe())\n",
    "# Overview of categorical columns\n",
    "print(\"---------------------------------\")\n",
    "print(\"The description of the categorical columns:\")\n",
    "print(df.describe(include=['object']))\n",
    "# Overview of all columns\n",
    "print(\"---------------------------------\")\n",
    "print(\"The description of all columns:\")\n",
    "print(df.describe(include='all'))\n",
    "# Overview of the dataset\n",
    "print(\"---------------------------------\")\n",
    "print(\"An overview of the dataset: the first 5 rows\")\n",
    "print(df.head())\n",
    "# Overview of the dataset\n",
    "print(\"----------------------------------\")\n",
    "print(\"An overview of the dataset: the last 5 rows\")\n",
    "print(df.tail())\n",
    "# Overview of the dataset\n",
    "print(\"----------------------------------\")\n",
    "print(\"An overview of the dataset: a random sample of 5 rows\")\n",
    "print(df.sample(5))\n",
    "# Overview of the dataset\n",
    "print(\"----------------------------------\")\n",
    "print(\"An overview of the dataset: the shape of the dataset\")\n",
    "print(df.info())\n",
    "# Check for missing values\n",
    "print(\"----------------------------------\")\n",
    "print(\"Check for missing values:\")\n",
    "print(df.isna().sum())"
   ]
  },
  {
   "cell_type": "code",
   "execution_count": null,
   "id": "1f58f87f",
   "metadata": {},
   "outputs": [],
   "source": [
    "def plot_correlation_matrix(df):\n",
    "    \"\"\"\n",
    "    Plot the correlation matrix of the dataset.\n",
    "    :param df: The dataset\n",
    "    :return: None\n",
    "    \"\"\"\n",
    "    plt.figure(figsize=(10, 8))\n",
    "    sns.heatmap(df.corr(), annot=True, fmt=\".2f\", cmap='coolwarm', square=True)\n",
    "    plt.title(\"Correlation Matrix\")\n",
    "    plt.show()"
   ]
  },
  {
   "cell_type": "code",
   "execution_count": null,
   "id": "0efa5bc4",
   "metadata": {},
   "outputs": [],
   "source": [
    "# Identify numeric columns\n",
    "\n",
    "# Compute Z-scores and flag outliers (|Z| > 3)\n",
    "numeric_cols = [\"sepal_length\", \"sepal_width\", \"petal_length\", \"petal_width\"]\n",
    "\n",
    "# Compute Z-scores and flag outliers (|Z| > 3)\n",
    "z_scores = np.abs(stats.zscore(df[numeric_cols]))\n",
    "outlier_flags = (z_scores > 3).any(axis=1)\n",
    "print(f\"Number of outlier samples flagged: {outlier_flags.sum()}\")"
   ]
  },
  {
   "cell_type": "code",
   "execution_count": null,
   "id": "64e23885",
   "metadata": {},
   "outputs": [],
   "source": [
    "missing_values = df.isna().sum()\n",
    "missing_pct = (missing_values / len(df)) * 100\n",
    "\n",
    "print(\"\\nMissing Value Report:\")\n",
    "missing_report = pd.DataFrame({\n",
    "    'Missing_Count': missing_values,\n",
    "    'Missing_Percentage': missing_pct\n",
    "})\n",
    "print(missing_report)\n",
    "\n",
    "# List columns with >5% missing values\n",
    "high_missing_cols = missing_pct[missing_pct > 5].index.tolist()\n",
    "print(\"\\nColumns with >5% missing values:\", high_missing_cols)"
   ]
  },
  {
   "cell_type": "code",
   "execution_count": null,
   "id": "9a20231c",
   "metadata": {},
   "outputs": [],
   "source": [
    "z_scores = np.abs(stats.zscore(df[sensor_cols]))\n",
    "outliers = (z_scores > 3).any(axis=1)\n",
    "df['Outlier_Flag'] = outliers\n",
    "\n",
    "print(f\"\\nFound {outliers.sum()} outlier rows (|Z| > 3)\")\n",
    "\n",
    "# remove missing median for key columns\n",
    "for col in sensor_cols:\n",
    "    if col in df.columns:\n",
    "        df[col].fillna(df[col].median(), inplace=True)\n",
    "\n",
    "# Physical range validation\n",
    "df = df[(df['GHI'] >= 0) & (df['GHI'] <= 1500)]  # Valid GHI range\n",
    "df = df[df['WS'] >= 0]  # Wind speed can't be negative"
   ]
  },
  {
   "cell_type": "code",
   "execution_count": null,
   "id": "f75f73ee",
   "metadata": {},
   "outputs": [],
   "source": [
    "output_dir = Path('data')\n",
    "output_dir.mkdir(exist_ok=True)\n",
    "\n",
    "# Export cleaned data (country should be dynamic)\n",
    "country = 'Germany'  # Change as needed\n",
    "output_path = output_dir / f'{country}_clean.csv'\n",
    "df.to_csv(output_path, index=False)\n",
    "print(f\"\\nCleaned data saved to {output_path}\")"
   ]
  }
 ],
 "metadata": {
  "kernelspec": {
   "display_name": "Python 3",
   "language": "python",
   "name": "python3"
  },
  "language_info": {
   "name": "python",
   "version": "3.13.0"
  }
 },
 "nbformat": 4,
 "nbformat_minor": 5
}
